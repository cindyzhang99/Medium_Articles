{
  "nbformat": 4,
  "nbformat_minor": 0,
  "metadata": {
    "colab": {
      "name": "ModelCheckpoint_saving_entire_model.ipynb",
      "provenance": [],
      "authorship_tag": "ABX9TyOGK4SUefAbqQklu6RSVtyp",
      "include_colab_link": true
    },
    "kernelspec": {
      "name": "python3",
      "display_name": "Python 3"
    }
  },
  "cells": [
    {
      "cell_type": "markdown",
      "metadata": {
        "id": "view-in-github",
        "colab_type": "text"
      },
      "source": [
        "<a href=\"https://colab.research.google.com/github/jvishnuvardhan/Medium_Articles/blob/master/ModelCheckpoint_saving_entire_model.ipynb\" target=\"_parent\"><img src=\"https://colab.research.google.com/assets/colab-badge.svg\" alt=\"Open In Colab\"/></a>"
      ]
    },
    {
      "cell_type": "code",
      "metadata": {
        "id": "dBZJxmAbou9k",
        "colab_type": "code",
        "colab": {
          "base_uri": "https://localhost:8080/",
          "height": 666
        },
        "outputId": "062de853-8b23-434e-91ca-b3866b1044d2"
      },
      "source": [
        "!pip install tensorflow==2.2"
      ],
      "execution_count": 4,
      "outputs": [
        {
          "output_type": "stream",
          "text": [
            "Requirement already satisfied: tensorflow==2.2 in /usr/local/lib/python3.6/dist-packages (2.2.0)\n",
            "Requirement already satisfied: six>=1.12.0 in /usr/local/lib/python3.6/dist-packages (from tensorflow==2.2) (1.12.0)\n",
            "Requirement already satisfied: absl-py>=0.7.0 in /usr/local/lib/python3.6/dist-packages (from tensorflow==2.2) (0.9.0)\n",
            "Requirement already satisfied: h5py<2.11.0,>=2.10.0 in /usr/local/lib/python3.6/dist-packages (from tensorflow==2.2) (2.10.0)\n",
            "Requirement already satisfied: gast==0.3.3 in /usr/local/lib/python3.6/dist-packages (from tensorflow==2.2) (0.3.3)\n",
            "Requirement already satisfied: protobuf>=3.8.0 in /usr/local/lib/python3.6/dist-packages (from tensorflow==2.2) (3.10.0)\n",
            "Requirement already satisfied: google-pasta>=0.1.8 in /usr/local/lib/python3.6/dist-packages (from tensorflow==2.2) (0.2.0)\n",
            "Requirement already satisfied: astunparse==1.6.3 in /usr/local/lib/python3.6/dist-packages (from tensorflow==2.2) (1.6.3)\n",
            "Requirement already satisfied: numpy<2.0,>=1.16.0 in /usr/local/lib/python3.6/dist-packages (from tensorflow==2.2) (1.18.5)\n",
            "Requirement already satisfied: opt-einsum>=2.3.2 in /usr/local/lib/python3.6/dist-packages (from tensorflow==2.2) (3.2.1)\n",
            "Requirement already satisfied: tensorboard<2.3.0,>=2.2.0 in /usr/local/lib/python3.6/dist-packages (from tensorflow==2.2) (2.2.2)\n",
            "Requirement already satisfied: tensorflow-estimator<2.3.0,>=2.2.0 in /usr/local/lib/python3.6/dist-packages (from tensorflow==2.2) (2.2.0)\n",
            "Requirement already satisfied: keras-preprocessing>=1.1.0 in /usr/local/lib/python3.6/dist-packages (from tensorflow==2.2) (1.1.2)\n",
            "Requirement already satisfied: wrapt>=1.11.1 in /usr/local/lib/python3.6/dist-packages (from tensorflow==2.2) (1.12.1)\n",
            "Requirement already satisfied: wheel>=0.26; python_version >= \"3\" in /usr/local/lib/python3.6/dist-packages (from tensorflow==2.2) (0.34.2)\n",
            "Requirement already satisfied: scipy==1.4.1; python_version >= \"3\" in /usr/local/lib/python3.6/dist-packages (from tensorflow==2.2) (1.4.1)\n",
            "Requirement already satisfied: grpcio>=1.8.6 in /usr/local/lib/python3.6/dist-packages (from tensorflow==2.2) (1.30.0)\n",
            "Requirement already satisfied: termcolor>=1.1.0 in /usr/local/lib/python3.6/dist-packages (from tensorflow==2.2) (1.1.0)\n",
            "Requirement already satisfied: setuptools in /usr/local/lib/python3.6/dist-packages (from protobuf>=3.8.0->tensorflow==2.2) (47.3.1)\n",
            "Requirement already satisfied: google-auth-oauthlib<0.5,>=0.4.1 in /usr/local/lib/python3.6/dist-packages (from tensorboard<2.3.0,>=2.2.0->tensorflow==2.2) (0.4.1)\n",
            "Requirement already satisfied: tensorboard-plugin-wit>=1.6.0 in /usr/local/lib/python3.6/dist-packages (from tensorboard<2.3.0,>=2.2.0->tensorflow==2.2) (1.6.0.post3)\n",
            "Requirement already satisfied: google-auth<2,>=1.6.3 in /usr/local/lib/python3.6/dist-packages (from tensorboard<2.3.0,>=2.2.0->tensorflow==2.2) (1.17.2)\n",
            "Requirement already satisfied: markdown>=2.6.8 in /usr/local/lib/python3.6/dist-packages (from tensorboard<2.3.0,>=2.2.0->tensorflow==2.2) (3.2.2)\n",
            "Requirement already satisfied: requests<3,>=2.21.0 in /usr/local/lib/python3.6/dist-packages (from tensorboard<2.3.0,>=2.2.0->tensorflow==2.2) (2.23.0)\n",
            "Requirement already satisfied: werkzeug>=0.11.15 in /usr/local/lib/python3.6/dist-packages (from tensorboard<2.3.0,>=2.2.0->tensorflow==2.2) (1.0.1)\n",
            "Requirement already satisfied: requests-oauthlib>=0.7.0 in /usr/local/lib/python3.6/dist-packages (from google-auth-oauthlib<0.5,>=0.4.1->tensorboard<2.3.0,>=2.2.0->tensorflow==2.2) (1.3.0)\n",
            "Requirement already satisfied: cachetools<5.0,>=2.0.0 in /usr/local/lib/python3.6/dist-packages (from google-auth<2,>=1.6.3->tensorboard<2.3.0,>=2.2.0->tensorflow==2.2) (4.1.0)\n",
            "Requirement already satisfied: pyasn1-modules>=0.2.1 in /usr/local/lib/python3.6/dist-packages (from google-auth<2,>=1.6.3->tensorboard<2.3.0,>=2.2.0->tensorflow==2.2) (0.2.8)\n",
            "Requirement already satisfied: rsa<5,>=3.1.4; python_version >= \"3\" in /usr/local/lib/python3.6/dist-packages (from google-auth<2,>=1.6.3->tensorboard<2.3.0,>=2.2.0->tensorflow==2.2) (4.6)\n",
            "Requirement already satisfied: importlib-metadata; python_version < \"3.8\" in /usr/local/lib/python3.6/dist-packages (from markdown>=2.6.8->tensorboard<2.3.0,>=2.2.0->tensorflow==2.2) (1.6.1)\n",
            "Requirement already satisfied: urllib3!=1.25.0,!=1.25.1,<1.26,>=1.21.1 in /usr/local/lib/python3.6/dist-packages (from requests<3,>=2.21.0->tensorboard<2.3.0,>=2.2.0->tensorflow==2.2) (1.24.3)\n",
            "Requirement already satisfied: idna<3,>=2.5 in /usr/local/lib/python3.6/dist-packages (from requests<3,>=2.21.0->tensorboard<2.3.0,>=2.2.0->tensorflow==2.2) (2.9)\n",
            "Requirement already satisfied: chardet<4,>=3.0.2 in /usr/local/lib/python3.6/dist-packages (from requests<3,>=2.21.0->tensorboard<2.3.0,>=2.2.0->tensorflow==2.2) (3.0.4)\n",
            "Requirement already satisfied: certifi>=2017.4.17 in /usr/local/lib/python3.6/dist-packages (from requests<3,>=2.21.0->tensorboard<2.3.0,>=2.2.0->tensorflow==2.2) (2020.6.20)\n",
            "Requirement already satisfied: oauthlib>=3.0.0 in /usr/local/lib/python3.6/dist-packages (from requests-oauthlib>=0.7.0->google-auth-oauthlib<0.5,>=0.4.1->tensorboard<2.3.0,>=2.2.0->tensorflow==2.2) (3.1.0)\n",
            "Requirement already satisfied: pyasn1<0.5.0,>=0.4.6 in /usr/local/lib/python3.6/dist-packages (from pyasn1-modules>=0.2.1->google-auth<2,>=1.6.3->tensorboard<2.3.0,>=2.2.0->tensorflow==2.2) (0.4.8)\n",
            "Requirement already satisfied: zipp>=0.5 in /usr/local/lib/python3.6/dist-packages (from importlib-metadata; python_version < \"3.8\"->markdown>=2.6.8->tensorboard<2.3.0,>=2.2.0->tensorflow==2.2) (3.1.0)\n"
          ],
          "name": "stdout"
        }
      ]
    },
    {
      "cell_type": "code",
      "metadata": {
        "id": "kJ8QWOXaoxoj",
        "colab_type": "code",
        "colab": {
          "base_uri": "https://localhost:8080/",
          "height": 326
        },
        "outputId": "c17b64b3-5b35-4458-d142-e0512e8d7284"
      },
      "source": [
        "# Import modules\n",
        "import tensorflow as tf\n",
        "from tensorflow import keras\n",
        "import os, datetime\n",
        "\n",
        "Epochs = 3\n",
        "# Load data\n",
        "mnist = tf.keras.datasets.mnist\n",
        "\n",
        "# Split the data to train and test\n",
        "(x_train, y_train),(x_test, y_test) = mnist.load_data()\n",
        "\n",
        "# Process the data\n",
        "x_train, x_test = x_train / 255.0, x_test / 255.0\n",
        "\n",
        "# Define model\n",
        "def create_model():\n",
        "  model = tf.keras.models.Sequential([\n",
        "    tf.keras.layers.Flatten(input_shape=(28, 28)),\n",
        "    tf.keras.layers.Dense(512, activation='relu'),\n",
        "    tf.keras.layers.Dropout(0.2),\n",
        "    tf.keras.layers.Dense(10, activation='softmax')\n",
        "    ])\n",
        "  \n",
        "  # Compile the model\n",
        "  # model.compile(optimizer='adam',\n",
        "  #             loss='sparse_categorical_crossentropy',\n",
        "  #             metrics=['accuracy'])\n",
        "  return model\n",
        "\n",
        "# Create a basic model instance\n",
        "model=create_model()\n",
        "\n",
        "# Compile the model\n",
        "model.compile(optimizer='adam',\n",
        "            loss='sparse_categorical_crossentropy',\n",
        "            metrics=['accuracy'])\n",
        "  \n",
        "# Define ModelCheckpoint callback\n",
        "checkpoint_path = \"training_1/cp-{epoch:04d}.ckpt\"\n",
        "checkpoint_dir = os.path.dirname(checkpoint_path)\n",
        "checkpoint_callback = tf.keras.callbacks.ModelCheckpoint(\n",
        "   checkpoint_path, monitor='val_acc', verbose=1, save_weights_only=False,\n",
        "   # Save weights, every epoch.\n",
        "   save_freq='epoch', mode='auto',save_best_only=False)\n",
        "\n",
        "# Train the model\n",
        "model.fit(x_train, y_train, epochs=Epochs,validation_data=(x_test, y_test), callbacks=[checkpoint_callback])\n",
        "loss, acc = model.evaluate(x_test, y_test,verbose=1)\n",
        "print(\"Original model, accuracy: {:5.2f}%\".format(100*acc))"
      ],
      "execution_count": 6,
      "outputs": [
        {
          "output_type": "stream",
          "text": [
            "Epoch 1/3\n",
            "1874/1875 [============================>.] - ETA: 0s - loss: 0.2212 - accuracy: 0.9343\n",
            "Epoch 00001: saving model to training_1/cp-0001.ckpt\n",
            "INFO:tensorflow:Assets written to: training_1/cp-0001.ckpt/assets\n",
            "1875/1875 [==============================] - 9s 5ms/step - loss: 0.2211 - accuracy: 0.9344 - val_loss: 0.1115 - val_accuracy: 0.9632\n",
            "Epoch 2/3\n",
            "1870/1875 [============================>.] - ETA: 0s - loss: 0.0970 - accuracy: 0.9703\n",
            "Epoch 00002: saving model to training_1/cp-0002.ckpt\n",
            "INFO:tensorflow:Assets written to: training_1/cp-0002.ckpt/assets\n",
            "1875/1875 [==============================] - 9s 5ms/step - loss: 0.0970 - accuracy: 0.9703 - val_loss: 0.0825 - val_accuracy: 0.9743\n",
            "Epoch 3/3\n",
            "1865/1875 [============================>.] - ETA: 0s - loss: 0.0692 - accuracy: 0.9783\n",
            "Epoch 00003: saving model to training_1/cp-0003.ckpt\n",
            "INFO:tensorflow:Assets written to: training_1/cp-0003.ckpt/assets\n",
            "1875/1875 [==============================] - 9s 5ms/step - loss: 0.0693 - accuracy: 0.9783 - val_loss: 0.0684 - val_accuracy: 0.9789\n",
            "313/313 [==============================] - 1s 2ms/step - loss: 0.0684 - accuracy: 0.9789\n",
            "Original model, accuracy: 97.89%\n"
          ],
          "name": "stdout"
        }
      ]
    },
    {
      "cell_type": "code",
      "metadata": {
        "id": "80ntxJtXpzXl",
        "colab_type": "code",
        "colab": {
          "base_uri": "https://localhost:8080/",
          "height": 326
        },
        "outputId": "66b14364-2cb1-4cee-cdf6-0278adbdb385"
      },
      "source": [
        "# Create a basic model instance\n",
        "model=create_model()\n",
        "\n",
        "# Compile the model\n",
        "model.compile(optimizer='adam',\n",
        "            loss='sparse_categorical_crossentropy',\n",
        "            metrics=['accuracy'])\n",
        "\n",
        "# Define ModelCheckpoint callback\n",
        "checkpoint_path = \"training_2/cp.ckpt\"\n",
        "checkpoint_dir = os.path.dirname(checkpoint_path)\n",
        "# checkpoint_callback = tf.keras.callbacks.ModelCheckpoint(\n",
        "#    checkpoint_path, verbose=1,save_best_only=True,save_weights_only=True,monitor='val_acc',mode='auto')\n",
        "\n",
        "checkpoint_callback = tf.keras.callbacks.ModelCheckpoint(\n",
        "   checkpoint_path, monitor='val_accuracy', verbose=1, save_weights_only=False,\n",
        "   # Save weights, every epoch.\n",
        "   save_freq='epoch',mode='auto',save_best_only=True)\n",
        "\n",
        "#cp_callback = tf.keras.callbacks.ModelCheckpoint(filepath=checkpoint_path,save_best_only=True, save_weights_only=True, verbose=1)\n",
        "\n",
        "# Train the model\n",
        "model.fit(x_train, y_train, epochs=Epochs,validation_data=(x_test, y_test), callbacks=[checkpoint_callback])\n",
        "loss, acc = model.evaluate(x_test, y_test,verbose=1)\n",
        "print(\"Original model, accuracy: {:5.2f}%\".format(100*acc))"
      ],
      "execution_count": 7,
      "outputs": [
        {
          "output_type": "stream",
          "text": [
            "Epoch 1/3\n",
            "1864/1875 [============================>.] - ETA: 0s - loss: 0.2198 - accuracy: 0.9346\n",
            "Epoch 00001: val_accuracy improved from -inf to 0.96970, saving model to training_2/cp.ckpt\n",
            "INFO:tensorflow:Assets written to: training_2/cp.ckpt/assets\n",
            "1875/1875 [==============================] - 9s 5ms/step - loss: 0.2192 - accuracy: 0.9348 - val_loss: 0.0960 - val_accuracy: 0.9697\n",
            "Epoch 2/3\n",
            "1869/1875 [============================>.] - ETA: 0s - loss: 0.0956 - accuracy: 0.9707\n",
            "Epoch 00002: val_accuracy improved from 0.96970 to 0.97140, saving model to training_2/cp.ckpt\n",
            "INFO:tensorflow:Assets written to: training_2/cp.ckpt/assets\n",
            "1875/1875 [==============================] - 9s 5ms/step - loss: 0.0957 - accuracy: 0.9707 - val_loss: 0.0918 - val_accuracy: 0.9714\n",
            "Epoch 3/3\n",
            "1872/1875 [============================>.] - ETA: 0s - loss: 0.0696 - accuracy: 0.9783\n",
            "Epoch 00003: val_accuracy improved from 0.97140 to 0.97700, saving model to training_2/cp.ckpt\n",
            "INFO:tensorflow:Assets written to: training_2/cp.ckpt/assets\n",
            "1875/1875 [==============================] - 9s 5ms/step - loss: 0.0696 - accuracy: 0.9783 - val_loss: 0.0725 - val_accuracy: 0.9770\n",
            "313/313 [==============================] - 1s 2ms/step - loss: 0.0725 - accuracy: 0.9770\n",
            "Original model, accuracy: 97.70%\n"
          ],
          "name": "stdout"
        }
      ]
    }
  ]
}