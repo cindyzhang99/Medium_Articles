{
  "nbformat": 4,
  "nbformat_minor": 0,
  "metadata": {
    "colab": {
      "name": "Sequential_Classification_MNIST.ipynb",
      "provenance": [],
      "authorship_tag": "ABX9TyMzvywqm29AwMXUx/4kB8Yq",
      "include_colab_link": true
    },
    "kernelspec": {
      "name": "python3",
      "display_name": "Python 3"
    },
    "accelerator": "GPU"
  },
  "cells": [
    {
      "cell_type": "markdown",
      "metadata": {
        "id": "view-in-github",
        "colab_type": "text"
      },
      "source": [
        "<a href=\"https://colab.research.google.com/github/jvishnuvardhan/Medium_Articles/blob/master/Sequential_Classification_MNIST.ipynb\" target=\"_parent\"><img src=\"https://colab.research.google.com/assets/colab-badge.svg\" alt=\"Open In Colab\"/></a>"
      ]
    },
    {
      "cell_type": "code",
      "metadata": {
        "id": "OmYo0_BcTLmg",
        "colab_type": "code",
        "outputId": "fe3fe2e1-6738-4905-c8be-cadab6e383a2",
        "colab": {
          "base_uri": "https://localhost:8080/",
          "height": 666
        }
      },
      "source": [
        "!pip install tensorflow==2.2"
      ],
      "execution_count": 1,
      "outputs": [
        {
          "output_type": "stream",
          "text": [
            "Requirement already satisfied: tensorflow==2.2 in /usr/local/lib/python3.6/dist-packages (2.2.0)\n",
            "Requirement already satisfied: numpy<2.0,>=1.16.0 in /usr/local/lib/python3.6/dist-packages (from tensorflow==2.2) (1.18.5)\n",
            "Requirement already satisfied: google-pasta>=0.1.8 in /usr/local/lib/python3.6/dist-packages (from tensorflow==2.2) (0.2.0)\n",
            "Requirement already satisfied: astunparse==1.6.3 in /usr/local/lib/python3.6/dist-packages (from tensorflow==2.2) (1.6.3)\n",
            "Requirement already satisfied: scipy==1.4.1; python_version >= \"3\" in /usr/local/lib/python3.6/dist-packages (from tensorflow==2.2) (1.4.1)\n",
            "Requirement already satisfied: tensorflow-estimator<2.3.0,>=2.2.0 in /usr/local/lib/python3.6/dist-packages (from tensorflow==2.2) (2.2.0)\n",
            "Requirement already satisfied: wrapt>=1.11.1 in /usr/local/lib/python3.6/dist-packages (from tensorflow==2.2) (1.12.1)\n",
            "Requirement already satisfied: grpcio>=1.8.6 in /usr/local/lib/python3.6/dist-packages (from tensorflow==2.2) (1.29.0)\n",
            "Requirement already satisfied: tensorboard<2.3.0,>=2.2.0 in /usr/local/lib/python3.6/dist-packages (from tensorflow==2.2) (2.2.2)\n",
            "Requirement already satisfied: opt-einsum>=2.3.2 in /usr/local/lib/python3.6/dist-packages (from tensorflow==2.2) (3.2.1)\n",
            "Requirement already satisfied: wheel>=0.26; python_version >= \"3\" in /usr/local/lib/python3.6/dist-packages (from tensorflow==2.2) (0.34.2)\n",
            "Requirement already satisfied: six>=1.12.0 in /usr/local/lib/python3.6/dist-packages (from tensorflow==2.2) (1.12.0)\n",
            "Requirement already satisfied: keras-preprocessing>=1.1.0 in /usr/local/lib/python3.6/dist-packages (from tensorflow==2.2) (1.1.2)\n",
            "Requirement already satisfied: protobuf>=3.8.0 in /usr/local/lib/python3.6/dist-packages (from tensorflow==2.2) (3.10.0)\n",
            "Requirement already satisfied: termcolor>=1.1.0 in /usr/local/lib/python3.6/dist-packages (from tensorflow==2.2) (1.1.0)\n",
            "Requirement already satisfied: h5py<2.11.0,>=2.10.0 in /usr/local/lib/python3.6/dist-packages (from tensorflow==2.2) (2.10.0)\n",
            "Requirement already satisfied: absl-py>=0.7.0 in /usr/local/lib/python3.6/dist-packages (from tensorflow==2.2) (0.9.0)\n",
            "Requirement already satisfied: gast==0.3.3 in /usr/local/lib/python3.6/dist-packages (from tensorflow==2.2) (0.3.3)\n",
            "Requirement already satisfied: google-auth-oauthlib<0.5,>=0.4.1 in /usr/local/lib/python3.6/dist-packages (from tensorboard<2.3.0,>=2.2.0->tensorflow==2.2) (0.4.1)\n",
            "Requirement already satisfied: google-auth<2,>=1.6.3 in /usr/local/lib/python3.6/dist-packages (from tensorboard<2.3.0,>=2.2.0->tensorflow==2.2) (1.7.2)\n",
            "Requirement already satisfied: werkzeug>=0.11.15 in /usr/local/lib/python3.6/dist-packages (from tensorboard<2.3.0,>=2.2.0->tensorflow==2.2) (1.0.1)\n",
            "Requirement already satisfied: tensorboard-plugin-wit>=1.6.0 in /usr/local/lib/python3.6/dist-packages (from tensorboard<2.3.0,>=2.2.0->tensorflow==2.2) (1.6.0.post3)\n",
            "Requirement already satisfied: requests<3,>=2.21.0 in /usr/local/lib/python3.6/dist-packages (from tensorboard<2.3.0,>=2.2.0->tensorflow==2.2) (2.23.0)\n",
            "Requirement already satisfied: markdown>=2.6.8 in /usr/local/lib/python3.6/dist-packages (from tensorboard<2.3.0,>=2.2.0->tensorflow==2.2) (3.2.2)\n",
            "Requirement already satisfied: setuptools>=41.0.0 in /usr/local/lib/python3.6/dist-packages (from tensorboard<2.3.0,>=2.2.0->tensorflow==2.2) (47.1.1)\n",
            "Requirement already satisfied: requests-oauthlib>=0.7.0 in /usr/local/lib/python3.6/dist-packages (from google-auth-oauthlib<0.5,>=0.4.1->tensorboard<2.3.0,>=2.2.0->tensorflow==2.2) (1.3.0)\n",
            "Requirement already satisfied: cachetools<3.2,>=2.0.0 in /usr/local/lib/python3.6/dist-packages (from google-auth<2,>=1.6.3->tensorboard<2.3.0,>=2.2.0->tensorflow==2.2) (3.1.1)\n",
            "Requirement already satisfied: rsa<4.1,>=3.1.4 in /usr/local/lib/python3.6/dist-packages (from google-auth<2,>=1.6.3->tensorboard<2.3.0,>=2.2.0->tensorflow==2.2) (4.0)\n",
            "Requirement already satisfied: pyasn1-modules>=0.2.1 in /usr/local/lib/python3.6/dist-packages (from google-auth<2,>=1.6.3->tensorboard<2.3.0,>=2.2.0->tensorflow==2.2) (0.2.8)\n",
            "Requirement already satisfied: urllib3!=1.25.0,!=1.25.1,<1.26,>=1.21.1 in /usr/local/lib/python3.6/dist-packages (from requests<3,>=2.21.0->tensorboard<2.3.0,>=2.2.0->tensorflow==2.2) (1.24.3)\n",
            "Requirement already satisfied: chardet<4,>=3.0.2 in /usr/local/lib/python3.6/dist-packages (from requests<3,>=2.21.0->tensorboard<2.3.0,>=2.2.0->tensorflow==2.2) (3.0.4)\n",
            "Requirement already satisfied: certifi>=2017.4.17 in /usr/local/lib/python3.6/dist-packages (from requests<3,>=2.21.0->tensorboard<2.3.0,>=2.2.0->tensorflow==2.2) (2020.4.5.1)\n",
            "Requirement already satisfied: idna<3,>=2.5 in /usr/local/lib/python3.6/dist-packages (from requests<3,>=2.21.0->tensorboard<2.3.0,>=2.2.0->tensorflow==2.2) (2.9)\n",
            "Requirement already satisfied: importlib-metadata; python_version < \"3.8\" in /usr/local/lib/python3.6/dist-packages (from markdown>=2.6.8->tensorboard<2.3.0,>=2.2.0->tensorflow==2.2) (1.6.0)\n",
            "Requirement already satisfied: oauthlib>=3.0.0 in /usr/local/lib/python3.6/dist-packages (from requests-oauthlib>=0.7.0->google-auth-oauthlib<0.5,>=0.4.1->tensorboard<2.3.0,>=2.2.0->tensorflow==2.2) (3.1.0)\n",
            "Requirement already satisfied: pyasn1>=0.1.3 in /usr/local/lib/python3.6/dist-packages (from rsa<4.1,>=3.1.4->google-auth<2,>=1.6.3->tensorboard<2.3.0,>=2.2.0->tensorflow==2.2) (0.4.8)\n",
            "Requirement already satisfied: zipp>=0.5 in /usr/local/lib/python3.6/dist-packages (from importlib-metadata; python_version < \"3.8\"->markdown>=2.6.8->tensorboard<2.3.0,>=2.2.0->tensorflow==2.2) (3.1.0)\n"
          ],
          "name": "stdout"
        }
      ]
    },
    {
      "cell_type": "code",
      "metadata": {
        "id": "wWkAQPVKTPMb",
        "colab_type": "code",
        "outputId": "f937656b-1e7c-410e-f843-28da03d192f2",
        "colab": {
          "base_uri": "https://localhost:8080/",
          "height": 428
        }
      },
      "source": [
        "# Import modules\n",
        "import tensorflow as tf\n",
        "from tensorflow import keras\n",
        "import os, datetime\n",
        "\n",
        "Epochs = 10\n",
        "# Load data\n",
        "mnist = tf.keras.datasets.mnist\n",
        "\n",
        "# Split the data to train and test\n",
        "(x_train, y_train),(x_test, y_test) = mnist.load_data()\n",
        "\n",
        "# Process the data\n",
        "x_train, x_test = x_train / 255.0, x_test / 255.0\n",
        "\n",
        "# Define model\n",
        "def create_model():\n",
        "  model = tf.keras.models.Sequential([\n",
        "    tf.keras.layers.Flatten(input_shape=(28, 28), name='Flatten'),\n",
        "    tf.keras.layers.Dense(512, activation='relu', name = 'Dense1'),\n",
        "    tf.keras.layers.Dropout(0.2, name = 'Dropout'),\n",
        "    tf.keras.layers.Dense(10, activation='softmax', name = 'Output')\n",
        "    ])\n",
        "  \n",
        "  return model\n",
        "\n",
        "# Create a basic model instance\n",
        "model = create_model()\n",
        "# Compile the model\n",
        "model.compile(optimizer='adam',\n",
        "            loss='sparse_categorical_crossentropy',\n",
        "            metrics=['accuracy','sparse_categorical_accuracy'])\n",
        "\n",
        "# define history callback so that we can access to plot graphs\n",
        "history = model.fit(x_train, y_train, epochs = 10, validation_data=(x_test, y_test), verbose=1)\n",
        "loss, acc, acc_spa = model.evaluate(x_test, y_test, verbose=10)\n",
        "print(\"Original model, accuracy: {:5.2f}%\".format(100*acc))"
      ],
      "execution_count": 2,
      "outputs": [
        {
          "output_type": "stream",
          "text": [
            "Downloading data from https://storage.googleapis.com/tensorflow/tf-keras-datasets/mnist.npz\n",
            "11493376/11490434 [==============================] - 0s 0us/step\n",
            "Epoch 1/10\n",
            "1875/1875 [==============================] - 6s 3ms/step - loss: 0.2194 - accuracy: 0.9349 - sparse_categorical_accuracy: 0.9349 - val_loss: 0.1133 - val_accuracy: 0.9652 - val_sparse_categorical_accuracy: 0.9652\n",
            "Epoch 2/10\n",
            "1875/1875 [==============================] - 6s 3ms/step - loss: 0.0956 - accuracy: 0.9700 - sparse_categorical_accuracy: 0.9700 - val_loss: 0.0855 - val_accuracy: 0.9746 - val_sparse_categorical_accuracy: 0.9746\n",
            "Epoch 3/10\n",
            "1875/1875 [==============================] - 6s 3ms/step - loss: 0.0698 - accuracy: 0.9769 - sparse_categorical_accuracy: 0.9769 - val_loss: 0.0721 - val_accuracy: 0.9782 - val_sparse_categorical_accuracy: 0.9782\n",
            "Epoch 4/10\n",
            "1875/1875 [==============================] - 5s 3ms/step - loss: 0.0527 - accuracy: 0.9837 - sparse_categorical_accuracy: 0.9837 - val_loss: 0.0667 - val_accuracy: 0.9799 - val_sparse_categorical_accuracy: 0.9799\n",
            "Epoch 5/10\n",
            "1875/1875 [==============================] - 5s 3ms/step - loss: 0.0448 - accuracy: 0.9845 - sparse_categorical_accuracy: 0.9845 - val_loss: 0.0662 - val_accuracy: 0.9807 - val_sparse_categorical_accuracy: 0.9807\n",
            "Epoch 6/10\n",
            "1875/1875 [==============================] - 6s 3ms/step - loss: 0.0368 - accuracy: 0.9878 - sparse_categorical_accuracy: 0.9878 - val_loss: 0.0633 - val_accuracy: 0.9817 - val_sparse_categorical_accuracy: 0.9817\n",
            "Epoch 7/10\n",
            "1875/1875 [==============================] - 6s 3ms/step - loss: 0.0312 - accuracy: 0.9897 - sparse_categorical_accuracy: 0.9897 - val_loss: 0.0753 - val_accuracy: 0.9794 - val_sparse_categorical_accuracy: 0.9794\n",
            "Epoch 8/10\n",
            "1875/1875 [==============================] - 5s 3ms/step - loss: 0.0275 - accuracy: 0.9908 - sparse_categorical_accuracy: 0.9908 - val_loss: 0.0715 - val_accuracy: 0.9807 - val_sparse_categorical_accuracy: 0.9807\n",
            "Epoch 9/10\n",
            "1875/1875 [==============================] - 6s 3ms/step - loss: 0.0250 - accuracy: 0.9913 - sparse_categorical_accuracy: 0.9913 - val_loss: 0.0760 - val_accuracy: 0.9800 - val_sparse_categorical_accuracy: 0.9800\n",
            "Epoch 10/10\n",
            "1875/1875 [==============================] - 6s 3ms/step - loss: 0.0216 - accuracy: 0.9924 - sparse_categorical_accuracy: 0.9924 - val_loss: 0.0832 - val_accuracy: 0.9783 - val_sparse_categorical_accuracy: 0.9783\n",
            "Original model, accuracy: 97.83%\n"
          ],
          "name": "stdout"
        }
      ]
    },
    {
      "cell_type": "code",
      "metadata": {
        "id": "sdHw58bmUQUo",
        "colab_type": "code",
        "colab": {
          "base_uri": "https://localhost:8080/",
          "height": 54
        },
        "outputId": "5a9d355c-0d0b-4cae-daa7-ecd8bec24c52"
      },
      "source": [
        "print(history.history)"
      ],
      "execution_count": 3,
      "outputs": [
        {
          "output_type": "stream",
          "text": [
            "{'loss': [0.21941164135932922, 0.09561420232057571, 0.06984198093414307, 0.052737101912498474, 0.044780198484659195, 0.036809030920267105, 0.03124978393316269, 0.02745683304965496, 0.025023506954312325, 0.02163522131741047], 'accuracy': [0.9349499940872192, 0.9700499773025513, 0.9769166707992554, 0.9836833477020264, 0.9845499992370605, 0.9878166913986206, 0.989716649055481, 0.9907666444778442, 0.9912833571434021, 0.9924333095550537], 'sparse_categorical_accuracy': [0.9349499940872192, 0.9700499773025513, 0.9769166707992554, 0.9836833477020264, 0.9845499992370605, 0.9878166913986206, 0.989716649055481, 0.9907666444778442, 0.9912833571434021, 0.9924333095550537], 'val_loss': [0.11325117200613022, 0.08553704619407654, 0.07210977375507355, 0.0666504055261612, 0.06617379188537598, 0.0632559210062027, 0.07531233876943588, 0.07145415991544724, 0.07600178569555283, 0.08320660144090652], 'val_accuracy': [0.9652000069618225, 0.9746000170707703, 0.9782000184059143, 0.9799000024795532, 0.9807000160217285, 0.9817000031471252, 0.9793999791145325, 0.9807000160217285, 0.9800000190734863, 0.9782999753952026], 'val_sparse_categorical_accuracy': [0.9652000069618225, 0.9746000170707703, 0.9782000184059143, 0.9799000024795532, 0.9807000160217285, 0.9817000031471252, 0.9793999791145325, 0.9807000160217285, 0.9800000190734863, 0.9782999753952026]}\n"
          ],
          "name": "stdout"
        }
      ]
    },
    {
      "cell_type": "code",
      "metadata": {
        "id": "ClqYVmPtUdWh",
        "colab_type": "code",
        "outputId": "e6b1a0b1-b736-4b28-af66-49bda50bc1fd",
        "colab": {
          "base_uri": "https://localhost:8080/",
          "height": 71
        }
      },
      "source": [
        "# keys of each parameter under history object\n",
        "print(history.history.keys()) # accessing parameters stored in history object\n",
        "# dict_keys(['loss', 'accuracy', 'sparse_categorical_accuracy', 'val_loss', 'val_accuracy', 'val_sparse_categorical_accuracy'])\n",
        "\n",
        "print(history.history['loss']) # accessing parameters stored in history object\n",
        "# output per each epoch\n",
        "# [0.2186, 0.0949, 0.0696, 0.0522, 0.0446, 0.0349, 0.0314, 0.0281, 0.0237, 0.0252]"
      ],
      "execution_count": 4,
      "outputs": [
        {
          "output_type": "stream",
          "text": [
            "dict_keys(['loss', 'accuracy', 'sparse_categorical_accuracy', 'val_loss', 'val_accuracy', 'val_sparse_categorical_accuracy'])\n",
            "[0.21941164135932922, 0.09561420232057571, 0.06984198093414307, 0.052737101912498474, 0.044780198484659195, 0.036809030920267105, 0.03124978393316269, 0.02745683304965496, 0.025023506954312325, 0.02163522131741047]\n"
          ],
          "name": "stdout"
        }
      ]
    },
    {
      "cell_type": "code",
      "metadata": {
        "id": "kYWB0gLha7HL",
        "colab_type": "code",
        "outputId": "240690e5-3a76-447f-9183-a57b990a3d9e",
        "colab": {
          "base_uri": "https://localhost:8080/",
          "height": 54
        }
      },
      "source": [
        "# All parameters under history object (per each epoch)\n",
        "print(history.history)\n",
        "# {'loss': [0.024641312658786774, 0.02208031341433525], 'accuracy': [0.9916499853134155, 0.9923666715621948], 'val_loss': [0.07042355090379715, 0.06479452550411224], 'val_accuracy': [0.9812999963760376, 0.9836999773979187]}"
      ],
      "execution_count": 5,
      "outputs": [
        {
          "output_type": "stream",
          "text": [
            "{'loss': [0.21941164135932922, 0.09561420232057571, 0.06984198093414307, 0.052737101912498474, 0.044780198484659195, 0.036809030920267105, 0.03124978393316269, 0.02745683304965496, 0.025023506954312325, 0.02163522131741047], 'accuracy': [0.9349499940872192, 0.9700499773025513, 0.9769166707992554, 0.9836833477020264, 0.9845499992370605, 0.9878166913986206, 0.989716649055481, 0.9907666444778442, 0.9912833571434021, 0.9924333095550537], 'sparse_categorical_accuracy': [0.9349499940872192, 0.9700499773025513, 0.9769166707992554, 0.9836833477020264, 0.9845499992370605, 0.9878166913986206, 0.989716649055481, 0.9907666444778442, 0.9912833571434021, 0.9924333095550537], 'val_loss': [0.11325117200613022, 0.08553704619407654, 0.07210977375507355, 0.0666504055261612, 0.06617379188537598, 0.0632559210062027, 0.07531233876943588, 0.07145415991544724, 0.07600178569555283, 0.08320660144090652], 'val_accuracy': [0.9652000069618225, 0.9746000170707703, 0.9782000184059143, 0.9799000024795532, 0.9807000160217285, 0.9817000031471252, 0.9793999791145325, 0.9807000160217285, 0.9800000190734863, 0.9782999753952026], 'val_sparse_categorical_accuracy': [0.9652000069618225, 0.9746000170707703, 0.9782000184059143, 0.9799000024795532, 0.9807000160217285, 0.9817000031471252, 0.9793999791145325, 0.9807000160217285, 0.9800000190734863, 0.9782999753952026]}\n"
          ],
          "name": "stdout"
        }
      ]
    },
    {
      "cell_type": "code",
      "metadata": {
        "id": "iEDPzdkTbcxq",
        "colab_type": "code",
        "colab": {
          "base_uri": "https://localhost:8080/",
          "height": 34
        },
        "outputId": "63c18227-37b7-4ae7-b8b6-26b5c22abd23"
      },
      "source": [
        "# you can inspect model object to access many other params under model.*\n",
        "model.loss # 'sparse_categorical_crossentropy'"
      ],
      "execution_count": 6,
      "outputs": [
        {
          "output_type": "execute_result",
          "data": {
            "text/plain": [
              "'sparse_categorical_crossentropy'"
            ]
          },
          "metadata": {
            "tags": []
          },
          "execution_count": 6
        }
      ]
    },
    {
      "cell_type": "code",
      "metadata": {
        "id": "pDq5Cd65PIJB",
        "colab_type": "code",
        "colab": {
          "base_uri": "https://localhost:8080/",
          "height": 105
        },
        "outputId": "f10f2e8a-8101-4585-a295-5f22083595d8"
      },
      "source": [
        "model.save('MyModel')"
      ],
      "execution_count": 7,
      "outputs": [
        {
          "output_type": "stream",
          "text": [
            "WARNING:tensorflow:From /usr/local/lib/python3.6/dist-packages/tensorflow/python/ops/resource_variable_ops.py:1817: calling BaseResourceVariable.__init__ (from tensorflow.python.ops.resource_variable_ops) with constraint is deprecated and will be removed in a future version.\n",
            "Instructions for updating:\n",
            "If using Keras pass *_constraint arguments to layers.\n",
            "INFO:tensorflow:Assets written to: MyModel/assets\n"
          ],
          "name": "stdout"
        }
      ]
    },
    {
      "cell_type": "code",
      "metadata": {
        "id": "jfSdEVfpPMgQ",
        "colab_type": "code",
        "colab": {}
      },
      "source": [
        "loaded_model = tf.keras.models.load_model('MyModel')"
      ],
      "execution_count": 0,
      "outputs": []
    },
    {
      "cell_type": "code",
      "metadata": {
        "id": "NUWaRVyjPUbF",
        "colab_type": "code",
        "colab": {
          "base_uri": "https://localhost:8080/",
          "height": 102
        },
        "outputId": "35a1fccb-4559-4e1c-c638-a8aa80970c72"
      },
      "source": [
        "print(loaded_model.output_shape) # (None, 10)\n",
        "print(loaded_model.loss) # sparse_categorical_crossentropy\n",
        "print(loaded_model.output_names) # ['Output']\n",
        "print(loaded_model.run_eagerly) # False\n",
        "print(model.summary) # summary of model architecture"
      ],
      "execution_count": 9,
      "outputs": [
        {
          "output_type": "stream",
          "text": [
            "(None, 10)\n",
            "<function sparse_categorical_crossentropy at 0x7fbe8956d950>\n",
            "['Output']\n",
            "False\n",
            "<bound method Network.summary of <tensorflow.python.keras.engine.sequential.Sequential object at 0x7fbe7fbc4d68>>\n"
          ],
          "name": "stdout"
        }
      ]
    },
    {
      "cell_type": "code",
      "metadata": {
        "id": "M0BXZwh-dSdK",
        "colab_type": "code",
        "outputId": "d2a99d90-60f8-4772-b273-fde4ebf5ee7e",
        "colab": {
          "base_uri": "https://localhost:8080/",
          "height": 265
        }
      },
      "source": [
        "from matplotlib import pyplot as plt\n",
        "plt.imshow(x_train[0]) # y_train[0] is 5\n",
        "plt.show()"
      ],
      "execution_count": 10,
      "outputs": [
        {
          "output_type": "display_data",
          "data": {
            "image/png": "[encoded data removed]",
            "text/plain": [
              "<Figure size 432x288 with 1 Axes>"
            ]
          },
          "metadata": {
            "tags": [],
            "needs_background": "light"
          }
        }
      ]
    },
    {
      "cell_type": "code",
      "metadata": {
        "id": "Ya8kf9z8kfD-",
        "colab_type": "code",
        "colab": {}
      },
      "source": [
        "from tensorflow.keras.utils import plot_model"
      ],
      "execution_count": 0,
      "outputs": []
    },
    {
      "cell_type": "code",
      "metadata": {
        "id": "feOsLRf0k6xB",
        "colab_type": "code",
        "outputId": "9cd59adf-df95-4b62-a1d9-fd7fb4d6c8ea",
        "colab": {
          "base_uri": "https://localhost:8080/",
          "height": 533
        }
      },
      "source": [
        "plot_model(model, show_shapes=True)"
      ],
      "execution_count": 12,
      "outputs": [
        {
          "output_type": "execute_result",
          "data": {
            "image/png": "[encoded data removed]",
            "text/plain": [
              "<IPython.core.display.Image object>"
            ]
          },
          "metadata": {
            "tags": []
          },
          "execution_count": 12
        }
      ]
    },
    {
      "cell_type": "code",
      "metadata": {
        "id": "I9nhu5cwmAR-",
        "colab_type": "code",
        "outputId": "4daa0d73-b05f-4452-fead-295b209fd4d1",
        "colab": {
          "base_uri": "https://localhost:8080/",
          "height": 377
        }
      },
      "source": [
        "# Demonstrating Different Ways of Implementing Custom Metrics\n",
        "\n",
        "# Approach #2: Custom Metric (without external parameters)\n",
        "def metric_no_params(yTrue,yPred):\n",
        "  return tf.keras.metrics.sparse_categorical_accuracy(yTrue, yPred)\n",
        "\n",
        "# Approach #3: Custom Metric (with external parameters)\n",
        "def metric_with_params(magic_num):\n",
        "  def metric(yTrue,yPred):\n",
        "    yTrue = yTrue*magic_num\n",
        "    return tf.keras.metrics.sparse_categorical_accuracy(yTrue, yPred)\n",
        "  return metric\n",
        "\n",
        "# Approach #4: Custom Metric Layer\n",
        "class MyMetrics_layer(tf.keras.metrics.Metric):\n",
        "\n",
        "  def __init__(self, name='MyMetrics_layer', **kwargs):\n",
        "    super(MyMetrics_layer, self).__init__(name=name, **kwargs)\n",
        "    self.my_metric = self.add_weight(name='my_metric1', initializer='zeros')\n",
        "    self.m = tf.keras.metrics.SparseCategoricalAccuracy()\n",
        "\n",
        "\n",
        "  def update_state(self, y_true, y_pred, sample_weight=None):\n",
        "    _ = self.m.update_state(tf.cast(y_true, 'int32'), y_pred)\n",
        "    self.my_metric.assign(self.m.result())\n",
        "    \n",
        "  def result(self):\n",
        "    return self.my_metric\n",
        "\n",
        "  def reset_states(self):\n",
        "    # The state of the metric will be reset at the start of each epoch.\n",
        "    self.my_metric.assign(0.)\n",
        "\n",
        "# Create a basic model instance\n",
        "model2 = create_model()\n",
        "\n",
        "magic_num = 1 # This is just for demonstrating usage of an external parameter inside custom metric\n",
        "\n",
        "# Compile the model\n",
        "model2.compile(optimizer='adam',\n",
        "            loss='sparse_categorical_crossentropy',\n",
        "            metrics=['accuracy',metric_no_params, metric_with_params(magic_num),MyMetrics_layer()],run_eagerly=False)\n",
        "\n",
        "# define history callback (you can use it to access some parameters under it)\n",
        "history2 = model2.fit(x_train, y_train, epochs = Epochs, verbose=1)"
      ],
      "execution_count": 13,
      "outputs": [
        {
          "output_type": "stream",
          "text": [
            "Epoch 1/10\n",
            "1875/1875 [==============================] - 6s 3ms/step - loss: 0.2192 - accuracy: 0.9355 - metric_no_params: 0.9355 - metric: 0.9355 - MyMetrics_layer: 0.9355\n",
            "Epoch 2/10\n",
            "1875/1875 [==============================] - 6s 3ms/step - loss: 0.0979 - accuracy: 0.9690 - metric_no_params: 0.9690 - metric: 0.9690 - MyMetrics_layer: 0.9523\n",
            "Epoch 3/10\n",
            "1875/1875 [==============================] - 6s 3ms/step - loss: 0.0691 - accuracy: 0.9785 - metric_no_params: 0.9785 - metric: 0.9785 - MyMetrics_layer: 0.9610\n",
            "Epoch 4/10\n",
            "1875/1875 [==============================] - 6s 3ms/step - loss: 0.0533 - accuracy: 0.9825 - metric_no_params: 0.9825 - metric: 0.9825 - MyMetrics_layer: 0.9664\n",
            "Epoch 5/10\n",
            "1875/1875 [==============================] - 6s 3ms/step - loss: 0.0442 - accuracy: 0.9855 - metric_no_params: 0.9855 - metric: 0.9855 - MyMetrics_layer: 0.9702\n",
            "Epoch 6/10\n",
            "1875/1875 [==============================] - 6s 3ms/step - loss: 0.0371 - accuracy: 0.9877 - metric_no_params: 0.9877 - metric: 0.9877 - MyMetrics_layer: 0.9731\n",
            "Epoch 7/10\n",
            "1875/1875 [==============================] - 6s 3ms/step - loss: 0.0306 - accuracy: 0.9902 - metric_no_params: 0.9902 - metric: 0.9902 - MyMetrics_layer: 0.9756\n",
            "Epoch 8/10\n",
            "1875/1875 [==============================] - 6s 3ms/step - loss: 0.0270 - accuracy: 0.9912 - metric_no_params: 0.9912 - metric: 0.9912 - MyMetrics_layer: 0.9775\n",
            "Epoch 9/10\n",
            "1875/1875 [==============================] - 6s 3ms/step - loss: 0.0239 - accuracy: 0.9915 - metric_no_params: 0.9915 - metric: 0.9915 - MyMetrics_layer: 0.9791\n",
            "Epoch 10/10\n",
            "1875/1875 [==============================] - 6s 3ms/step - loss: 0.0230 - accuracy: 0.9924 - metric_no_params: 0.9924 - metric: 0.9924 - MyMetrics_layer: 0.9804\n"
          ],
          "name": "stdout"
        }
      ]
    },
    {
      "cell_type": "code",
      "metadata": {
        "id": "bXegZwic6Hp1",
        "colab_type": "code",
        "outputId": "94f1c41d-a768-4bf0-fbe3-0521b8e211c8",
        "colab": {
          "base_uri": "https://localhost:8080/",
          "height": 357
        }
      },
      "source": [
        "# Demonstrating Different Ways of Implementing Custom Loss\n",
        "\n",
        "# Approach #1: Built-in Loss function\n",
        "\n",
        "# Approach #2: Custom Loss (without external parameters)\n",
        "def loss_no_params(yTrue,yPred):\n",
        "  return tf.keras.losses.sparse_categorical_crossentropy(yTrue, yPred)\n",
        "\n",
        "# Approach #3: Custom Loss (with external parameters)\n",
        "def loss_with_params(magic_num):\n",
        "  def loss(yTrue,yPred):\n",
        "    yTrue = yTrue*magic_num\n",
        "    return tf.keras.losses.sparse_categorical_crossentropy(yTrue, yPred)\n",
        "  return loss\n",
        "\n",
        "# Approach #4: Custom Loss Layer\n",
        "class MyLoss_layer(keras.losses.Loss):\n",
        "  def __init__(self, from_logits=False,\n",
        "                reduction=keras.losses.Reduction.AUTO,\n",
        "                name='MyLoss_layer'):\n",
        "      super(MyLoss_layer, self).__init__(reduction=reduction, name=name)\n",
        "\n",
        "  def call(self, y_true, y_pred):\n",
        "    custom_loss = tf.keras.losses.sparse_categorical_crossentropy(y_true, y_pred)\n",
        "    return custom_loss\n",
        "\n",
        "# Create a basic model instance\n",
        "model3 = create_model()\n",
        "magic_num = 1\n",
        "\n",
        "# Approach #1: Compile the model (Built-in loss)\n",
        "# model3.compile(optimizer='adam',\n",
        "#             loss='sparse_categorical_crossentropy',\n",
        "#             metrics=['accuracy'],run_eagerly=False)\n",
        "\n",
        "# Approach #2: Compile the model (loss with no external parameters)\n",
        "# model3.compile(optimizer='adam',\n",
        "#             loss=loss_no_params,\n",
        "#             metrics=['accuracy'],run_eagerly=False)\n",
        "\n",
        "# Approach #3: Compile the model (loss with external parameters)\n",
        "# model3.compile(optimizer='adam',\n",
        "#             loss=loss_with_params(magic_num),\n",
        "#             metrics=['accuracy'],run_eagerly=False)\n",
        "\n",
        "# Approach #4: Compile the model (loss with custom loss layer)\n",
        "model3.compile(optimizer='adam',\n",
        "            loss=MyLoss_layer(),\n",
        "            metrics=['accuracy'],run_eagerly=False)\n",
        "\n",
        "\n",
        "# define history callback so that we can access to plot graphs\n",
        "history3 = model3.fit(x_train, y_train, epochs = Epochs, verbose=1)"
      ],
      "execution_count": 14,
      "outputs": [
        {
          "output_type": "stream",
          "text": [
            "Epoch 1/10\n",
            "1875/1875 [==============================] - 4s 2ms/step - loss: 0.2180 - accuracy: 0.9345\n",
            "Epoch 2/10\n",
            "1875/1875 [==============================] - 4s 2ms/step - loss: 0.0943 - accuracy: 0.9708\n",
            "Epoch 3/10\n",
            "1875/1875 [==============================] - 4s 2ms/step - loss: 0.0695 - accuracy: 0.9780\n",
            "Epoch 4/10\n",
            "1875/1875 [==============================] - 4s 2ms/step - loss: 0.0548 - accuracy: 0.9823\n",
            "Epoch 5/10\n",
            "1875/1875 [==============================] - 4s 2ms/step - loss: 0.0425 - accuracy: 0.9867\n",
            "Epoch 6/10\n",
            "1875/1875 [==============================] - 4s 2ms/step - loss: 0.0358 - accuracy: 0.9886\n",
            "Epoch 7/10\n",
            "1875/1875 [==============================] - 4s 2ms/step - loss: 0.0315 - accuracy: 0.9891\n",
            "Epoch 8/10\n",
            "1875/1875 [==============================] - 4s 2ms/step - loss: 0.0270 - accuracy: 0.9910\n",
            "Epoch 9/10\n",
            "1875/1875 [==============================] - 4s 2ms/step - loss: 0.0246 - accuracy: 0.9918\n",
            "Epoch 10/10\n",
            "1875/1875 [==============================] - 4s 2ms/step - loss: 0.0222 - accuracy: 0.9922\n"
          ],
          "name": "stdout"
        }
      ]
    }
  ]
}